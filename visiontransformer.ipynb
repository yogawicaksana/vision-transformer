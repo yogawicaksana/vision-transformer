{
  "nbformat": 4,
  "nbformat_minor": 0,
  "metadata": {
    "colab": {
      "name": "visiontransformer",
      "provenance": [],
      "collapsed_sections": []
    },
    "kernelspec": {
      "name": "python3",
      "display_name": "Python 3"
    },
    "language_info": {
      "name": "python"
    },
    "accelerator": "GPU",
    "gpuClass": "standard"
  },
  "cells": [
    {
      "cell_type": "markdown",
      "source": [
        "# Setup"
      ],
      "metadata": {
        "id": "rPzJq9Qx5s95"
      }
    },
    {
      "cell_type": "code",
      "execution_count": 1,
      "metadata": {
        "colab": {
          "base_uri": "https://localhost:8080/"
        },
        "id": "jEDnDKBy5j4P",
        "outputId": "ae99e027-78df-4527-8e16-e47b1e1167a8"
      },
      "outputs": [
        {
          "output_type": "stream",
          "name": "stdout",
          "text": [
            "Looking in indexes: https://pypi.org/simple, https://us-python.pkg.dev/colab-wheels/public/simple/\n",
            "Collecting tensorflow-addons\n",
            "  Downloading tensorflow_addons-0.17.1-cp37-cp37m-manylinux_2_17_x86_64.manylinux2014_x86_64.whl (1.1 MB)\n",
            "\u001b[K     |████████████████████████████████| 1.1 MB 4.9 MB/s \n",
            "\u001b[?25hRequirement already satisfied: typeguard>=2.7 in /usr/local/lib/python3.7/dist-packages (from tensorflow-addons) (2.7.1)\n",
            "Requirement already satisfied: packaging in /usr/local/lib/python3.7/dist-packages (from tensorflow-addons) (21.3)\n",
            "Requirement already satisfied: pyparsing!=3.0.5,>=2.0.2 in /usr/local/lib/python3.7/dist-packages (from packaging->tensorflow-addons) (3.0.9)\n",
            "Installing collected packages: tensorflow-addons\n",
            "Successfully installed tensorflow-addons-0.17.1\n"
          ]
        }
      ],
      "source": [
        "!pip install -U tensorflow-addons"
      ]
    },
    {
      "cell_type": "code",
      "source": [
        "import numpy as np\n",
        "import tensorflow as tf\n",
        "from tensorflow import keras\n",
        "from tensorflow.keras import layers\n",
        "import tensorflow_addons as tfa"
      ],
      "metadata": {
        "id": "6HvTU8ep7TmP"
      },
      "execution_count": 2,
      "outputs": []
    },
    {
      "cell_type": "markdown",
      "source": [
        "# Loading up the dataset"
      ],
      "metadata": {
        "id": "ZGg57sv87egJ"
      }
    },
    {
      "cell_type": "code",
      "source": [
        "num_classes = 100\n",
        "input_shape = (32, 32, 3)\n",
        "\n",
        "(x_train, y_train), (x_test, y_test) = keras.datasets.cifar100.load_data()\n",
        "\n",
        "print(f\"x_train shape: {x_train.shape} - y_train shape: {y_train.shape}\")\n",
        "print(f\"x_test shape: {x_test.shape} - y_test shape: {y_test.shape}\")"
      ],
      "metadata": {
        "colab": {
          "base_uri": "https://localhost:8080/"
        },
        "id": "atMLePGG7c9k",
        "outputId": "50742595-bedf-4f2e-9225-23515eb58385"
      },
      "execution_count": 22,
      "outputs": [
        {
          "output_type": "stream",
          "name": "stdout",
          "text": [
            "x_train shape: (50000, 32, 32, 3) - y_train shape: (50000, 1)\n",
            "x_test shape: (10000, 32, 32, 3) - y_test shape: (10000, 1)\n"
          ]
        }
      ]
    },
    {
      "cell_type": "markdown",
      "source": [
        "# Config the hyperparams"
      ],
      "metadata": {
        "id": "PMOAkFk3794p"
      }
    },
    {
      "cell_type": "code",
      "source": [
        "learning_rate = 0.001\n",
        "weight_decay = 0.0001\n",
        "batch_size = 256\n",
        "num_epochs = 100\n",
        "image_size = 72  # We'll resize input images to this size\n",
        "patch_size = 6  # Size of the patches to be extract from the input images\n",
        "num_patches = (image_size // patch_size) ** 2\n",
        "projection_dim = 64\n",
        "num_heads = 4\n",
        "transformer_units = [\n",
        "    projection_dim * 2,\n",
        "    projection_dim,\n",
        "]  # Size of the transformer layers\n",
        "transformer_layers = 8\n",
        "mlp_head_units = [2048, 1024]  # Size of the dense layers of the final classifier\n"
      ],
      "metadata": {
        "id": "0lMcfmCb7c6x"
      },
      "execution_count": 23,
      "outputs": []
    },
    {
      "cell_type": "markdown",
      "source": [
        "# Data Augmentation"
      ],
      "metadata": {
        "id": "Jm-ZnemUYqZ4"
      }
    },
    {
      "cell_type": "code",
      "source": [
        "data_augmentation = keras.Sequential(\n",
        "    [\n",
        "        layers.Normalization(),\n",
        "        layers.Resizing(image_size, image_size),\n",
        "        layers.RandomFlip(\"horizontal\"),\n",
        "        layers.RandomRotation(factor=0.02),\n",
        "        layers.RandomZoom(\n",
        "            height_factor=0.2, width_factor=0.2\n",
        "        ),\n",
        "    ],\n",
        "    name=\"data_augmentation\",\n",
        ")\n",
        "# Compute the mean and the variance of the training data for normalization.\n",
        "data_augmentation.layers[0].adapt(x_train)\n"
      ],
      "metadata": {
        "id": "maUTNrh57c4J"
      },
      "execution_count": 24,
      "outputs": []
    },
    {
      "cell_type": "markdown",
      "source": [
        "# MLP"
      ],
      "metadata": {
        "id": "2zKpbGPtZuqA"
      }
    },
    {
      "cell_type": "code",
      "source": [
        "def mlp(x, hidden_units, dropout_rate):\n",
        "    for units in hidden_units:\n",
        "        x = layers.Dense(units, activation=tf.nn.gelu)(x)\n",
        "        x = layers.Dropout(dropout_rate)(x)\n",
        "    return x\n"
      ],
      "metadata": {
        "id": "2DAsTZSY7c1n"
      },
      "execution_count": 25,
      "outputs": []
    },
    {
      "cell_type": "markdown",
      "source": [
        "# Patch creation as a layer"
      ],
      "metadata": {
        "id": "rhyK2RLWZ9_l"
      }
    },
    {
      "cell_type": "code",
      "source": [
        "class Patches(layers.Layer):\n",
        "    def __init__(self, patch_size):\n",
        "        super(Patches, self).__init__()\n",
        "        self.patch_size = patch_size\n",
        "\n",
        "    def call(self, images):\n",
        "        batch_size = tf.shape(images)[0]\n",
        "        patches = tf.image.extract_patches(\n",
        "            images=images,\n",
        "            sizes=[1, self.patch_size, self.patch_size, 1],\n",
        "            strides=[1, self.patch_size, self.patch_size, 1],\n",
        "            rates=[1, 1, 1, 1],\n",
        "            padding=\"VALID\",\n",
        "        )\n",
        "        patch_dims = patches.shape[-1]\n",
        "        patches = tf.reshape(patches, [batch_size, -1, patch_dims])\n",
        "        return patches\n"
      ],
      "metadata": {
        "id": "h_IlnRjX7czL"
      },
      "execution_count": 26,
      "outputs": []
    },
    {
      "cell_type": "markdown",
      "source": [
        "Let's display patches for a sample image"
      ],
      "metadata": {
        "id": "cEPSHsyxdsdk"
      }
    },
    {
      "cell_type": "code",
      "source": [
        "import matplotlib.pyplot as plt\n",
        "\n",
        "plt.figure(figsize=(4, 4))\n",
        "image = x_train[np.random.choice(range(x_train.shape[0]))]\n",
        "plt.imshow(image.astype(\"uint8\"))\n",
        "plt.axis(\"off\")\n",
        "\n",
        "resized_image = tf.image.resize(\n",
        "    tf.convert_to_tensor([image]), size=(image_size, image_size)\n",
        ")\n",
        "patches = Patches(patch_size)(resized_image)\n",
        "print(f\"Image size: {image_size} X {image_size}\")\n",
        "print(f\"Patch size: {patch_size} X {patch_size}\")\n",
        "print(f\"Patches per image: {patches.shape[1]}\")\n",
        "print(f\"Elements per patch: {patches.shape[-1]}\")\n",
        "\n",
        "n = int(np.sqrt(patches.shape[1]))\n",
        "plt.figure(figsize=(4, 4))\n",
        "for i, patch in enumerate(patches[0]):\n",
        "    ax = plt.subplot(n, n, i + 1)\n",
        "    patch_img = tf.reshape(patch, (patch_size, patch_size, 3))\n",
        "    plt.imshow(patch_img.numpy().astype(\"uint8\"))\n",
        "    plt.axis(\"off\")\n"
      ],
      "metadata": {
        "colab": {
          "base_uri": "https://localhost:8080/",
          "height": 552
        },
        "id": "ZblZxM-g7cwi",
        "outputId": "fe7db9ca-658c-48fe-ab11-170f2d4e3fd0"
      },
      "execution_count": 27,
      "outputs": [
        {
          "output_type": "stream",
          "name": "stdout",
          "text": [
            "Image size: 72 X 72\n",
            "Patch size: 6 X 6\n",
            "Patches per image: 144\n",
            "Elements per patch: 108\n"
          ]
        },
        {
          "output_type": "display_data",
          "data": {
            "text/plain": [
              "<Figure size 288x288 with 1 Axes>"
            ],
            "image/png": "[encoded data removed]"
          },
          "metadata": {
            "needs_background": "light"
          }
        },
        {
          "output_type": "display_data",
          "data": {
            "text/plain": [
              "<Figure size 288x288 with 144 Axes>"
            ],
            "image/png": "[encoded data removed]"
          },
          "metadata": {
            "needs_background": "light"
          }
        }
      ]
    },
    {
      "cell_type": "markdown",
      "source": [
        "# Patch Encoding Layer"
      ],
      "metadata": {
        "id": "wnqq0-fUNTBZ"
      }
    },
    {
      "cell_type": "code",
      "source": [
        "class PatchEncoder(layers.Layer):\n",
        "    def __init__(self, num_patches, projection_dim):\n",
        "        super(PatchEncoder, self).__init__()\n",
        "        self.num_patches = num_patches\n",
        "        self.projection = layers.Dense(units=projection_dim)\n",
        "        self.position_embedding = layers.Embedding(\n",
        "            input_dim=num_patches, output_dim=projection_dim\n",
        "        )\n",
        "\n",
        "    def call(self, patch):\n",
        "        positions = tf.range(start=0, limit=self.num_patches, delta=1)\n",
        "        encoded = self.projection(patch) + self.position_embedding(positions)\n",
        "        return encoded\n"
      ],
      "metadata": {
        "id": "yGWKhu4x7ct9"
      },
      "execution_count": 28,
      "outputs": []
    },
    {
      "cell_type": "markdown",
      "source": [
        "# ViT Model"
      ],
      "metadata": {
        "id": "JiQcXauhOXzM"
      }
    },
    {
      "cell_type": "code",
      "source": [
        "def create_vit_classifier():\n",
        "    inputs = layers.Input(shape=input_shape)\n",
        "    # Augment data.\n",
        "    augmented = data_augmentation(inputs)\n",
        "    # Create patches.\n",
        "    patches = Patches(patch_size)(augmented)\n",
        "    # Encode patches.\n",
        "    encoded_patches = PatchEncoder(num_patches, projection_dim)(patches)\n",
        "\n",
        "    # Create multiple layers of the Transformer block.\n",
        "    for _ in range(transformer_layers):\n",
        "        # Layer normalization 1.\n",
        "        x1 = layers.LayerNormalization(epsilon=1e-6)(encoded_patches)\n",
        "        # Create a multi-head attention layer.\n",
        "        attention_output = layers.MultiHeadAttention(\n",
        "            num_heads=num_heads, key_dim=projection_dim, dropout=0.1\n",
        "        )(x1, x1)\n",
        "        # Skip connection 1.\n",
        "        x2 = layers.Add()([attention_output, encoded_patches])\n",
        "        # Layer normalization 2.\n",
        "        x3 = layers.LayerNormalization(epsilon=1e-6)(x2)\n",
        "        # MLP.\n",
        "        x3 = mlp(x3, hidden_units=transformer_units, dropout_rate=0.1)\n",
        "        # Skip connection 2.\n",
        "        encoded_patches = layers.Add()([x3, x2])\n",
        "\n",
        "    # Create a [batch_size, projection_dim] tensor.\n",
        "    representation = layers.LayerNormalization(epsilon=1e-6)(encoded_patches)\n",
        "    representation = layers.Flatten()(representation)\n",
        "    representation = layers.Dropout(0.5)(representation)\n",
        "    # Add MLP.\n",
        "    features = mlp(representation, hidden_units=mlp_head_units, dropout_rate=0.5)\n",
        "    # Classify outputs.\n",
        "    logits = layers.Dense(num_classes)(features)\n",
        "    # Create the Keras model.\n",
        "    model = keras.Model(inputs=inputs, outputs=logits)\n",
        "    return model\n"
      ],
      "metadata": {
        "id": "uRv278lA7crS"
      },
      "execution_count": 29,
      "outputs": []
    },
    {
      "cell_type": "markdown",
      "source": [
        "# Compile, train, evaluate"
      ],
      "metadata": {
        "id": "R5qCdhG_QkQM"
      }
    },
    {
      "cell_type": "code",
      "source": [
        "def run_experiment(model):\n",
        "    optimizer = tfa.optimizers.AdamW(\n",
        "        learning_rate=learning_rate, weight_decay=weight_decay\n",
        "    )\n",
        "\n",
        "    model.compile(\n",
        "        optimizer=optimizer,\n",
        "        loss=keras.losses.SparseCategoricalCrossentropy(from_logits=True),\n",
        "        metrics=[\n",
        "            keras.metrics.SparseCategoricalAccuracy(name=\"accuracy\"),\n",
        "            keras.metrics.SparseTopKCategoricalAccuracy(5, name=\"top-5-accuracy\"),\n",
        "        ],\n",
        "    )\n",
        "\n",
        "    checkpoint_filepath = \"/tmp/checkpoint\"\n",
        "    checkpoint_callback = keras.callbacks.ModelCheckpoint(\n",
        "        checkpoint_filepath,\n",
        "        monitor=\"val_accuracy\",\n",
        "        save_best_only=True,\n",
        "        save_weights_only=True,\n",
        "    )\n",
        "\n",
        "    history = model.fit(\n",
        "        x=x_train,\n",
        "        y=y_train,\n",
        "        batch_size=batch_size,\n",
        "        epochs=num_epochs,\n",
        "        validation_split=0.1,\n",
        "        callbacks=[checkpoint_callback],\n",
        "    )\n",
        "\n",
        "    model.load_weights(checkpoint_filepath)\n",
        "    _, accuracy, top_5_accuracy = model.evaluate(x_test, y_test)\n",
        "    print(f\"Test accuracy: {round(accuracy * 100, 2)}%\")\n",
        "    print(f\"Test top 5 accuracy: {round(top_5_accuracy * 100, 2)}%\")\n",
        "\n",
        "    return history\n",
        "\n",
        "\n",
        "vit_classifier = create_vit_classifier()\n",
        "history = run_experiment(vit_classifier)\n"
      ],
      "metadata": {
        "colab": {
          "base_uri": "https://localhost:8080/"
        },
        "id": "NAGkeuPl7cof",
        "outputId": "5846e321-9ca2-4bbb-9f1e-94154c8c0c51"
      },
      "execution_count": 30,
      "outputs": [
        {
          "output_type": "stream",
          "name": "stdout",
          "text": [
            "Epoch 1/100\n",
            "176/176 [==============================] - 83s 406ms/step - loss: 4.4402 - accuracy: 0.0507 - top-5-accuracy: 0.1734 - val_loss: 3.8656 - val_accuracy: 0.1200 - val_top-5-accuracy: 0.3180\n",
            "Epoch 2/100\n",
            "176/176 [==============================] - 69s 394ms/step - loss: 3.9019 - accuracy: 0.1005 - top-5-accuracy: 0.3058 - val_loss: 3.5776 - val_accuracy: 0.1572 - val_top-5-accuracy: 0.4116\n",
            "Epoch 3/100\n",
            "176/176 [==============================] - 69s 394ms/step - loss: 3.6707 - accuracy: 0.1357 - top-5-accuracy: 0.3777 - val_loss: 3.3574 - val_accuracy: 0.2032 - val_top-5-accuracy: 0.4812\n",
            "Epoch 4/100\n",
            "176/176 [==============================] - 69s 394ms/step - loss: 3.4988 - accuracy: 0.1642 - top-5-accuracy: 0.4258 - val_loss: 3.2422 - val_accuracy: 0.2224 - val_top-5-accuracy: 0.5034\n",
            "Epoch 5/100\n",
            "176/176 [==============================] - 70s 395ms/step - loss: 3.3498 - accuracy: 0.1900 - top-5-accuracy: 0.4658 - val_loss: 3.0574 - val_accuracy: 0.2604 - val_top-5-accuracy: 0.5522\n",
            "Epoch 6/100\n",
            "176/176 [==============================] - 69s 394ms/step - loss: 3.2238 - accuracy: 0.2114 - top-5-accuracy: 0.4987 - val_loss: 3.0002 - val_accuracy: 0.2642 - val_top-5-accuracy: 0.5562\n",
            "Epoch 7/100\n",
            "176/176 [==============================] - 69s 394ms/step - loss: 3.0988 - accuracy: 0.2378 - top-5-accuracy: 0.5313 - val_loss: 2.8625 - val_accuracy: 0.2880 - val_top-5-accuracy: 0.5840\n",
            "Epoch 8/100\n",
            "176/176 [==============================] - 70s 395ms/step - loss: 2.9824 - accuracy: 0.2590 - top-5-accuracy: 0.5600 - val_loss: 2.7106 - val_accuracy: 0.3212 - val_top-5-accuracy: 0.6258\n",
            "Epoch 9/100\n",
            "176/176 [==============================] - 69s 395ms/step - loss: 2.8669 - accuracy: 0.2814 - top-5-accuracy: 0.5888 - val_loss: 2.6375 - val_accuracy: 0.3298 - val_top-5-accuracy: 0.6358\n",
            "Epoch 10/100\n",
            "176/176 [==============================] - 69s 394ms/step - loss: 2.7588 - accuracy: 0.3027 - top-5-accuracy: 0.6148 - val_loss: 2.5418 - val_accuracy: 0.3548 - val_top-5-accuracy: 0.6626\n",
            "Epoch 11/100\n",
            "176/176 [==============================] - 70s 395ms/step - loss: 2.6582 - accuracy: 0.3238 - top-5-accuracy: 0.6364 - val_loss: 2.4886 - val_accuracy: 0.3702 - val_top-5-accuracy: 0.6650\n",
            "Epoch 12/100\n",
            "176/176 [==============================] - 69s 394ms/step - loss: 2.5694 - accuracy: 0.3390 - top-5-accuracy: 0.6561 - val_loss: 2.3995 - val_accuracy: 0.3874 - val_top-5-accuracy: 0.6916\n",
            "Epoch 13/100\n",
            "176/176 [==============================] - 69s 395ms/step - loss: 2.4835 - accuracy: 0.3570 - top-5-accuracy: 0.6757 - val_loss: 2.3263 - val_accuracy: 0.4006 - val_top-5-accuracy: 0.7066\n",
            "Epoch 14/100\n",
            "176/176 [==============================] - 70s 395ms/step - loss: 2.4006 - accuracy: 0.3760 - top-5-accuracy: 0.6931 - val_loss: 2.2833 - val_accuracy: 0.4132 - val_top-5-accuracy: 0.7130\n",
            "Epoch 15/100\n",
            "176/176 [==============================] - 69s 395ms/step - loss: 2.3309 - accuracy: 0.3900 - top-5-accuracy: 0.7082 - val_loss: 2.2415 - val_accuracy: 0.4216 - val_top-5-accuracy: 0.7232\n",
            "Epoch 16/100\n",
            "176/176 [==============================] - 69s 395ms/step - loss: 2.2639 - accuracy: 0.4059 - top-5-accuracy: 0.7257 - val_loss: 2.1956 - val_accuracy: 0.4336 - val_top-5-accuracy: 0.7310\n",
            "Epoch 17/100\n",
            "176/176 [==============================] - 69s 395ms/step - loss: 2.2134 - accuracy: 0.4122 - top-5-accuracy: 0.7335 - val_loss: 2.1734 - val_accuracy: 0.4364 - val_top-5-accuracy: 0.7300\n",
            "Epoch 18/100\n",
            "176/176 [==============================] - 70s 395ms/step - loss: 2.1441 - accuracy: 0.4290 - top-5-accuracy: 0.7464 - val_loss: 2.1650 - val_accuracy: 0.4376 - val_top-5-accuracy: 0.7382\n",
            "Epoch 19/100\n",
            "176/176 [==============================] - 70s 396ms/step - loss: 2.0932 - accuracy: 0.4420 - top-5-accuracy: 0.7559 - val_loss: 2.1183 - val_accuracy: 0.4502 - val_top-5-accuracy: 0.7432\n",
            "Epoch 20/100\n",
            "176/176 [==============================] - 70s 395ms/step - loss: 2.0351 - accuracy: 0.4539 - top-5-accuracy: 0.7695 - val_loss: 2.0846 - val_accuracy: 0.4578 - val_top-5-accuracy: 0.7534\n",
            "Epoch 21/100\n",
            "176/176 [==============================] - 70s 396ms/step - loss: 1.9736 - accuracy: 0.4648 - top-5-accuracy: 0.7785 - val_loss: 2.0586 - val_accuracy: 0.4624 - val_top-5-accuracy: 0.7544\n",
            "Epoch 22/100\n",
            "176/176 [==============================] - 69s 392ms/step - loss: 1.9366 - accuracy: 0.4777 - top-5-accuracy: 0.7875 - val_loss: 2.0717 - val_accuracy: 0.4554 - val_top-5-accuracy: 0.7492\n",
            "Epoch 23/100\n",
            "176/176 [==============================] - 70s 396ms/step - loss: 1.8709 - accuracy: 0.4872 - top-5-accuracy: 0.7989 - val_loss: 2.0004 - val_accuracy: 0.4788 - val_top-5-accuracy: 0.7682\n",
            "Epoch 24/100\n",
            "176/176 [==============================] - 69s 391ms/step - loss: 1.8404 - accuracy: 0.4975 - top-5-accuracy: 0.8062 - val_loss: 2.0134 - val_accuracy: 0.4714 - val_top-5-accuracy: 0.7690\n",
            "Epoch 25/100\n",
            "176/176 [==============================] - 69s 391ms/step - loss: 1.7971 - accuracy: 0.5080 - top-5-accuracy: 0.8135 - val_loss: 1.9684 - val_accuracy: 0.4780 - val_top-5-accuracy: 0.7718\n",
            "Epoch 26/100\n",
            "176/176 [==============================] - 69s 391ms/step - loss: 1.7425 - accuracy: 0.5197 - top-5-accuracy: 0.8216 - val_loss: 1.9711 - val_accuracy: 0.4776 - val_top-5-accuracy: 0.7786\n",
            "Epoch 27/100\n",
            "176/176 [==============================] - 70s 395ms/step - loss: 1.7073 - accuracy: 0.5293 - top-5-accuracy: 0.8280 - val_loss: 1.9564 - val_accuracy: 0.4882 - val_top-5-accuracy: 0.7778\n",
            "Epoch 28/100\n",
            "176/176 [==============================] - 70s 395ms/step - loss: 1.6731 - accuracy: 0.5325 - top-5-accuracy: 0.8358 - val_loss: 1.9251 - val_accuracy: 0.4972 - val_top-5-accuracy: 0.7810\n",
            "Epoch 29/100\n",
            "176/176 [==============================] - 70s 395ms/step - loss: 1.6328 - accuracy: 0.5460 - top-5-accuracy: 0.8427 - val_loss: 1.9350 - val_accuracy: 0.4976 - val_top-5-accuracy: 0.7784\n",
            "Epoch 30/100\n",
            "176/176 [==============================] - 69s 391ms/step - loss: 1.5949 - accuracy: 0.5517 - top-5-accuracy: 0.8470 - val_loss: 1.9437 - val_accuracy: 0.4904 - val_top-5-accuracy: 0.7762\n",
            "Epoch 31/100\n",
            "176/176 [==============================] - 69s 395ms/step - loss: 1.5679 - accuracy: 0.5647 - top-5-accuracy: 0.8518 - val_loss: 1.8923 - val_accuracy: 0.5090 - val_top-5-accuracy: 0.7830\n",
            "Epoch 32/100\n",
            "176/176 [==============================] - 69s 391ms/step - loss: 1.5343 - accuracy: 0.5704 - top-5-accuracy: 0.8580 - val_loss: 1.9687 - val_accuracy: 0.4812 - val_top-5-accuracy: 0.7724\n",
            "Epoch 33/100\n",
            "176/176 [==============================] - 69s 391ms/step - loss: 1.5073 - accuracy: 0.5730 - top-5-accuracy: 0.8621 - val_loss: 1.9291 - val_accuracy: 0.5046 - val_top-5-accuracy: 0.7850\n",
            "Epoch 34/100\n",
            "176/176 [==============================] - 69s 391ms/step - loss: 1.4590 - accuracy: 0.5875 - top-5-accuracy: 0.8696 - val_loss: 1.9175 - val_accuracy: 0.5072 - val_top-5-accuracy: 0.7824\n",
            "Epoch 35/100\n",
            "176/176 [==============================] - 70s 395ms/step - loss: 1.4421 - accuracy: 0.5894 - top-5-accuracy: 0.8734 - val_loss: 1.8899 - val_accuracy: 0.5154 - val_top-5-accuracy: 0.7916\n",
            "Epoch 36/100\n",
            "176/176 [==============================] - 69s 391ms/step - loss: 1.4116 - accuracy: 0.5990 - top-5-accuracy: 0.8775 - val_loss: 1.8936 - val_accuracy: 0.5068 - val_top-5-accuracy: 0.7962\n",
            "Epoch 37/100\n",
            "176/176 [==============================] - 70s 395ms/step - loss: 1.3800 - accuracy: 0.6055 - top-5-accuracy: 0.8829 - val_loss: 1.8956 - val_accuracy: 0.5184 - val_top-5-accuracy: 0.7948\n",
            "Epoch 38/100\n",
            "176/176 [==============================] - 69s 391ms/step - loss: 1.3606 - accuracy: 0.6090 - top-5-accuracy: 0.8860 - val_loss: 1.8936 - val_accuracy: 0.5144 - val_top-5-accuracy: 0.7936\n",
            "Epoch 39/100\n",
            "176/176 [==============================] - 69s 391ms/step - loss: 1.3402 - accuracy: 0.6154 - top-5-accuracy: 0.8889 - val_loss: 1.8884 - val_accuracy: 0.5116 - val_top-5-accuracy: 0.7980\n",
            "Epoch 40/100\n",
            "176/176 [==============================] - 69s 391ms/step - loss: 1.3153 - accuracy: 0.6242 - top-5-accuracy: 0.8932 - val_loss: 1.8697 - val_accuracy: 0.5180 - val_top-5-accuracy: 0.7970\n",
            "Epoch 41/100\n",
            "176/176 [==============================] - 69s 391ms/step - loss: 1.2847 - accuracy: 0.6291 - top-5-accuracy: 0.8985 - val_loss: 1.8877 - val_accuracy: 0.5180 - val_top-5-accuracy: 0.7960\n",
            "Epoch 42/100\n",
            "176/176 [==============================] - 69s 392ms/step - loss: 1.2570 - accuracy: 0.6377 - top-5-accuracy: 0.9024 - val_loss: 1.8924 - val_accuracy: 0.5162 - val_top-5-accuracy: 0.7948\n",
            "Epoch 43/100\n",
            "176/176 [==============================] - 70s 395ms/step - loss: 1.2546 - accuracy: 0.6362 - top-5-accuracy: 0.9023 - val_loss: 1.8458 - val_accuracy: 0.5292 - val_top-5-accuracy: 0.8068\n",
            "Epoch 44/100\n",
            "176/176 [==============================] - 69s 391ms/step - loss: 1.2231 - accuracy: 0.6432 - top-5-accuracy: 0.9081 - val_loss: 1.8949 - val_accuracy: 0.5140 - val_top-5-accuracy: 0.7926\n",
            "Epoch 45/100\n",
            "176/176 [==============================] - 69s 391ms/step - loss: 1.2046 - accuracy: 0.6490 - top-5-accuracy: 0.9097 - val_loss: 1.8931 - val_accuracy: 0.5130 - val_top-5-accuracy: 0.7924\n",
            "Epoch 46/100\n",
            "176/176 [==============================] - 69s 392ms/step - loss: 1.1910 - accuracy: 0.6521 - top-5-accuracy: 0.9116 - val_loss: 1.8902 - val_accuracy: 0.5080 - val_top-5-accuracy: 0.7922\n",
            "Epoch 47/100\n",
            "176/176 [==============================] - 69s 392ms/step - loss: 1.1640 - accuracy: 0.6609 - top-5-accuracy: 0.9154 - val_loss: 1.8731 - val_accuracy: 0.5240 - val_top-5-accuracy: 0.8086\n",
            "Epoch 48/100\n",
            "176/176 [==============================] - 69s 392ms/step - loss: 1.1473 - accuracy: 0.6668 - top-5-accuracy: 0.9164 - val_loss: 1.9110 - val_accuracy: 0.5126 - val_top-5-accuracy: 0.7974\n",
            "Epoch 49/100\n",
            "176/176 [==============================] - 69s 392ms/step - loss: 1.1408 - accuracy: 0.6635 - top-5-accuracy: 0.9183 - val_loss: 1.9117 - val_accuracy: 0.5232 - val_top-5-accuracy: 0.7972\n",
            "Epoch 50/100\n",
            "176/176 [==============================] - 69s 392ms/step - loss: 1.1158 - accuracy: 0.6698 - top-5-accuracy: 0.9229 - val_loss: 1.8631 - val_accuracy: 0.5254 - val_top-5-accuracy: 0.8038\n",
            "Epoch 51/100\n",
            "176/176 [==============================] - 70s 396ms/step - loss: 1.1017 - accuracy: 0.6780 - top-5-accuracy: 0.9227 - val_loss: 1.8599 - val_accuracy: 0.5346 - val_top-5-accuracy: 0.8062\n",
            "Epoch 52/100\n",
            "176/176 [==============================] - 69s 391ms/step - loss: 1.0874 - accuracy: 0.6819 - top-5-accuracy: 0.9264 - val_loss: 1.8783 - val_accuracy: 0.5344 - val_top-5-accuracy: 0.8052\n",
            "Epoch 53/100\n",
            "176/176 [==============================] - 69s 391ms/step - loss: 1.0699 - accuracy: 0.6839 - top-5-accuracy: 0.9272 - val_loss: 1.8603 - val_accuracy: 0.5310 - val_top-5-accuracy: 0.8076\n",
            "Epoch 54/100\n",
            "176/176 [==============================] - 69s 392ms/step - loss: 1.0566 - accuracy: 0.6890 - top-5-accuracy: 0.9302 - val_loss: 1.9181 - val_accuracy: 0.5276 - val_top-5-accuracy: 0.8048\n",
            "Epoch 55/100\n",
            "176/176 [==============================] - 69s 392ms/step - loss: 1.0570 - accuracy: 0.6901 - top-5-accuracy: 0.9296 - val_loss: 1.9225 - val_accuracy: 0.5278 - val_top-5-accuracy: 0.8010\n",
            "Epoch 56/100\n",
            "176/176 [==============================] - 69s 391ms/step - loss: 1.0277 - accuracy: 0.6984 - top-5-accuracy: 0.9320 - val_loss: 1.9283 - val_accuracy: 0.5200 - val_top-5-accuracy: 0.8002\n",
            "Epoch 57/100\n",
            "176/176 [==============================] - 69s 391ms/step - loss: 1.0192 - accuracy: 0.6992 - top-5-accuracy: 0.9336 - val_loss: 1.9338 - val_accuracy: 0.5200 - val_top-5-accuracy: 0.8010\n",
            "Epoch 58/100\n",
            "176/176 [==============================] - 69s 392ms/step - loss: 1.0097 - accuracy: 0.6995 - top-5-accuracy: 0.9353 - val_loss: 1.9098 - val_accuracy: 0.5232 - val_top-5-accuracy: 0.8014\n",
            "Epoch 59/100\n",
            "176/176 [==============================] - 69s 392ms/step - loss: 1.0081 - accuracy: 0.6973 - top-5-accuracy: 0.9369 - val_loss: 1.8906 - val_accuracy: 0.5312 - val_top-5-accuracy: 0.8048\n",
            "Epoch 60/100\n",
            "176/176 [==============================] - 69s 392ms/step - loss: 0.9895 - accuracy: 0.7061 - top-5-accuracy: 0.9377 - val_loss: 1.9266 - val_accuracy: 0.5260 - val_top-5-accuracy: 0.8000\n",
            "Epoch 61/100\n",
            "176/176 [==============================] - 69s 392ms/step - loss: 0.9878 - accuracy: 0.7044 - top-5-accuracy: 0.9393 - val_loss: 1.9370 - val_accuracy: 0.5230 - val_top-5-accuracy: 0.8020\n",
            "Epoch 62/100\n",
            "176/176 [==============================] - 69s 392ms/step - loss: 0.9707 - accuracy: 0.7101 - top-5-accuracy: 0.9404 - val_loss: 1.9115 - val_accuracy: 0.5262 - val_top-5-accuracy: 0.8044\n",
            "Epoch 63/100\n",
            "176/176 [==============================] - 69s 392ms/step - loss: 0.9535 - accuracy: 0.7169 - top-5-accuracy: 0.9420 - val_loss: 1.9405 - val_accuracy: 0.5262 - val_top-5-accuracy: 0.8038\n",
            "Epoch 64/100\n",
            "176/176 [==============================] - 69s 392ms/step - loss: 0.9463 - accuracy: 0.7189 - top-5-accuracy: 0.9432 - val_loss: 1.9312 - val_accuracy: 0.5300 - val_top-5-accuracy: 0.8090\n",
            "Epoch 65/100\n",
            "176/176 [==============================] - 69s 392ms/step - loss: 0.9445 - accuracy: 0.7177 - top-5-accuracy: 0.9425 - val_loss: 1.9486 - val_accuracy: 0.5208 - val_top-5-accuracy: 0.8012\n",
            "Epoch 66/100\n",
            "176/176 [==============================] - 69s 392ms/step - loss: 0.9272 - accuracy: 0.7244 - top-5-accuracy: 0.9457 - val_loss: 1.9260 - val_accuracy: 0.5204 - val_top-5-accuracy: 0.8026\n",
            "Epoch 67/100\n",
            "176/176 [==============================] - 69s 392ms/step - loss: 0.9325 - accuracy: 0.7216 - top-5-accuracy: 0.9453 - val_loss: 1.9858 - val_accuracy: 0.5258 - val_top-5-accuracy: 0.8086\n",
            "Epoch 68/100\n",
            "176/176 [==============================] - 69s 392ms/step - loss: 0.9244 - accuracy: 0.7272 - top-5-accuracy: 0.9437 - val_loss: 1.9251 - val_accuracy: 0.5268 - val_top-5-accuracy: 0.8030\n",
            "Epoch 69/100\n",
            "176/176 [==============================] - 69s 392ms/step - loss: 0.9079 - accuracy: 0.7307 - top-5-accuracy: 0.9462 - val_loss: 1.9220 - val_accuracy: 0.5336 - val_top-5-accuracy: 0.8036\n",
            "Epoch 70/100\n",
            "176/176 [==============================] - 69s 392ms/step - loss: 0.8972 - accuracy: 0.7298 - top-5-accuracy: 0.9484 - val_loss: 1.9129 - val_accuracy: 0.5308 - val_top-5-accuracy: 0.8054\n",
            "Epoch 71/100\n",
            "176/176 [==============================] - 69s 392ms/step - loss: 0.8935 - accuracy: 0.7344 - top-5-accuracy: 0.9488 - val_loss: 1.9489 - val_accuracy: 0.5254 - val_top-5-accuracy: 0.8030\n",
            "Epoch 72/100\n",
            "176/176 [==============================] - 69s 391ms/step - loss: 0.8789 - accuracy: 0.7376 - top-5-accuracy: 0.9503 - val_loss: 1.9448 - val_accuracy: 0.5252 - val_top-5-accuracy: 0.8084\n",
            "Epoch 73/100\n",
            "176/176 [==============================] - 69s 395ms/step - loss: 0.8778 - accuracy: 0.7385 - top-5-accuracy: 0.9497 - val_loss: 1.9206 - val_accuracy: 0.5352 - val_top-5-accuracy: 0.8026\n",
            "Epoch 74/100\n",
            "176/176 [==============================] - 69s 391ms/step - loss: 0.8709 - accuracy: 0.7379 - top-5-accuracy: 0.9519 - val_loss: 1.9509 - val_accuracy: 0.5242 - val_top-5-accuracy: 0.8050\n",
            "Epoch 75/100\n",
            "176/176 [==============================] - 69s 392ms/step - loss: 0.8781 - accuracy: 0.7368 - top-5-accuracy: 0.9494 - val_loss: 1.9429 - val_accuracy: 0.5270 - val_top-5-accuracy: 0.8048\n",
            "Epoch 76/100\n",
            "176/176 [==============================] - 69s 392ms/step - loss: 0.8633 - accuracy: 0.7428 - top-5-accuracy: 0.9511 - val_loss: 1.9506 - val_accuracy: 0.5220 - val_top-5-accuracy: 0.8002\n",
            "Epoch 77/100\n",
            "176/176 [==============================] - 69s 391ms/step - loss: 0.8570 - accuracy: 0.7430 - top-5-accuracy: 0.9515 - val_loss: 1.9368 - val_accuracy: 0.5284 - val_top-5-accuracy: 0.8006\n",
            "Epoch 78/100\n",
            "176/176 [==============================] - 69s 395ms/step - loss: 0.8415 - accuracy: 0.7466 - top-5-accuracy: 0.9551 - val_loss: 1.9302 - val_accuracy: 0.5356 - val_top-5-accuracy: 0.8054\n",
            "Epoch 79/100\n",
            "176/176 [==============================] - 69s 391ms/step - loss: 0.8401 - accuracy: 0.7481 - top-5-accuracy: 0.9532 - val_loss: 1.9628 - val_accuracy: 0.5284 - val_top-5-accuracy: 0.8052\n",
            "Epoch 80/100\n",
            "176/176 [==============================] - 69s 391ms/step - loss: 0.8312 - accuracy: 0.7497 - top-5-accuracy: 0.9547 - val_loss: 1.9740 - val_accuracy: 0.5200 - val_top-5-accuracy: 0.7998\n",
            "Epoch 81/100\n",
            "176/176 [==============================] - 69s 392ms/step - loss: 0.8319 - accuracy: 0.7505 - top-5-accuracy: 0.9558 - val_loss: 1.9401 - val_accuracy: 0.5298 - val_top-5-accuracy: 0.8028\n",
            "Epoch 82/100\n",
            "176/176 [==============================] - 69s 391ms/step - loss: 0.8196 - accuracy: 0.7561 - top-5-accuracy: 0.9560 - val_loss: 1.9161 - val_accuracy: 0.5304 - val_top-5-accuracy: 0.8084\n",
            "Epoch 83/100\n",
            "176/176 [==============================] - 69s 391ms/step - loss: 0.8154 - accuracy: 0.7554 - top-5-accuracy: 0.9575 - val_loss: 1.9877 - val_accuracy: 0.5296 - val_top-5-accuracy: 0.8000\n",
            "Epoch 84/100\n",
            "176/176 [==============================] - 69s 395ms/step - loss: 0.8202 - accuracy: 0.7540 - top-5-accuracy: 0.9558 - val_loss: 1.9456 - val_accuracy: 0.5376 - val_top-5-accuracy: 0.8070\n",
            "Epoch 85/100\n",
            "176/176 [==============================] - 69s 391ms/step - loss: 0.8080 - accuracy: 0.7570 - top-5-accuracy: 0.9577 - val_loss: 1.9522 - val_accuracy: 0.5218 - val_top-5-accuracy: 0.8030\n",
            "Epoch 86/100\n",
            "176/176 [==============================] - 69s 391ms/step - loss: 0.8012 - accuracy: 0.7597 - top-5-accuracy: 0.9577 - val_loss: 1.9496 - val_accuracy: 0.5348 - val_top-5-accuracy: 0.8128\n",
            "Epoch 87/100\n",
            "176/176 [==============================] - 69s 392ms/step - loss: 0.8055 - accuracy: 0.7565 - top-5-accuracy: 0.9579 - val_loss: 1.9387 - val_accuracy: 0.5346 - val_top-5-accuracy: 0.8128\n",
            "Epoch 88/100\n",
            "176/176 [==============================] - 69s 391ms/step - loss: 0.7916 - accuracy: 0.7639 - top-5-accuracy: 0.9591 - val_loss: 2.0067 - val_accuracy: 0.5306 - val_top-5-accuracy: 0.8068\n",
            "Epoch 89/100\n",
            "176/176 [==============================] - 69s 391ms/step - loss: 0.7940 - accuracy: 0.7618 - top-5-accuracy: 0.9571 - val_loss: 1.9822 - val_accuracy: 0.5304 - val_top-5-accuracy: 0.7984\n",
            "Epoch 90/100\n",
            "176/176 [==============================] - 69s 391ms/step - loss: 0.7840 - accuracy: 0.7654 - top-5-accuracy: 0.9607 - val_loss: 1.9809 - val_accuracy: 0.5284 - val_top-5-accuracy: 0.8074\n",
            "Epoch 91/100\n",
            "176/176 [==============================] - 69s 392ms/step - loss: 0.7847 - accuracy: 0.7654 - top-5-accuracy: 0.9602 - val_loss: 1.9376 - val_accuracy: 0.5338 - val_top-5-accuracy: 0.8040\n",
            "Epoch 92/100\n",
            "176/176 [==============================] - 69s 392ms/step - loss: 0.7870 - accuracy: 0.7625 - top-5-accuracy: 0.9590 - val_loss: 1.9519 - val_accuracy: 0.5262 - val_top-5-accuracy: 0.8058\n",
            "Epoch 93/100\n",
            "176/176 [==============================] - 69s 391ms/step - loss: 0.7828 - accuracy: 0.7646 - top-5-accuracy: 0.9601 - val_loss: 1.9969 - val_accuracy: 0.5272 - val_top-5-accuracy: 0.8042\n",
            "Epoch 94/100\n",
            "176/176 [==============================] - 69s 392ms/step - loss: 0.7724 - accuracy: 0.7676 - top-5-accuracy: 0.9614 - val_loss: 1.9953 - val_accuracy: 0.5262 - val_top-5-accuracy: 0.8052\n",
            "Epoch 95/100\n",
            "176/176 [==============================] - 69s 392ms/step - loss: 0.7712 - accuracy: 0.7688 - top-5-accuracy: 0.9609 - val_loss: 1.9715 - val_accuracy: 0.5310 - val_top-5-accuracy: 0.8080\n",
            "Epoch 96/100\n",
            "176/176 [==============================] - 69s 392ms/step - loss: 0.7590 - accuracy: 0.7739 - top-5-accuracy: 0.9613 - val_loss: 1.9582 - val_accuracy: 0.5352 - val_top-5-accuracy: 0.8110\n",
            "Epoch 97/100\n",
            "176/176 [==============================] - 69s 391ms/step - loss: 0.7592 - accuracy: 0.7724 - top-5-accuracy: 0.9626 - val_loss: 1.9618 - val_accuracy: 0.5290 - val_top-5-accuracy: 0.8026\n",
            "Epoch 98/100\n",
            "176/176 [==============================] - 69s 391ms/step - loss: 0.7752 - accuracy: 0.7688 - top-5-accuracy: 0.9618 - val_loss: 1.9593 - val_accuracy: 0.5316 - val_top-5-accuracy: 0.8074\n",
            "Epoch 99/100\n",
            "176/176 [==============================] - 69s 392ms/step - loss: 0.7598 - accuracy: 0.7722 - top-5-accuracy: 0.9610 - val_loss: 1.9734 - val_accuracy: 0.5280 - val_top-5-accuracy: 0.7998\n",
            "Epoch 100/100\n",
            "176/176 [==============================] - 69s 392ms/step - loss: 0.7494 - accuracy: 0.7747 - top-5-accuracy: 0.9634 - val_loss: 1.9848 - val_accuracy: 0.5262 - val_top-5-accuracy: 0.7996\n",
            "313/313 [==============================] - 8s 24ms/step - loss: 1.8965 - accuracy: 0.5407 - top-5-accuracy: 0.8078\n",
            "Test accuracy: 54.07%\n",
            "Test top 5 accuracy: 80.78%\n"
          ]
        }
      ]
    },
    {
      "cell_type": "markdown",
      "source": [
        "https://keras.io/examples/vision/image_classification_with_vision_transformer/#introduction"
      ],
      "metadata": {
        "id": "tv3_oZOQ0pPP"
      }
    },
    {
      "cell_type": "code",
      "source": [
        ""
      ],
      "metadata": {
        "id": "o6wT2m-E0pgP"
      },
      "execution_count": null,
      "outputs": []
    }
  ]
}